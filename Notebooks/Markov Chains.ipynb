{
 "cells": [
  {
   "cell_type": "markdown",
   "metadata": {},
   "source": [
    "# Imports"
   ]
  },
  {
   "cell_type": "code",
   "execution_count": 23,
   "metadata": {
    "collapsed": false
   },
   "outputs": [],
   "source": [
    "import nltk\n",
    "import string\n",
    "import random\n",
    "import pickle\n",
    "import pandas as pd\n",
    "from nltk.corpus import stopwords\n",
    "from nltk.tokenize import WordPunctTokenizer, sent_tokenize, word_tokenize, TreebankWordTokenizer"
   ]
  },
  {
   "cell_type": "markdown",
   "metadata": {},
   "source": [
    "# Sample Markov Chain"
   ]
  },
  {
   "cell_type": "code",
   "execution_count": 24,
   "metadata": {
    "collapsed": true
   },
   "outputs": [],
   "source": [
    "exDict = {'Dangaia': ['likes', 'hates'],\n",
    "          'hates': ['celery', 'cucumbers', 'chlorophyll'],\n",
    "          'likes': ['cats', 'sleeping', 'dogs']}"
   ]
  },
  {
   "cell_type": "code",
   "execution_count": 28,
   "metadata": {
    "collapsed": false
   },
   "outputs": [
    {
     "name": "stdout",
     "output_type": "stream",
     "text": [
      "Dangaia hates cucumbers\n"
     ]
    }
   ],
   "source": [
    "presentState = 'Dangaia'\n",
    "futureState = exDict['Dangaia']\n",
    "output = []\n",
    "\n",
    "for i in range(3):\n",
    "    output.append(presentState)\n",
    "    temp = futureState[random.randrange(len(futureState))]\n",
    "    presentState = temp\n",
    "    try:\n",
    "        futureState = exDict[presentState]\n",
    "    except:\n",
    "        pass\n",
    "print(' '.join(output))"
   ]
  },
  {
   "cell_type": "markdown",
   "metadata": {},
   "source": [
    "# Make variables and define functions"
   ]
  },
  {
   "cell_type": "code",
   "execution_count": 10,
   "metadata": {
    "collapsed": false
   },
   "outputs": [],
   "source": [
    "'''Read in corpus pickle file'''\n",
    "\n",
    "corpus = pickle.load(open(\"corpus.p\", \"rb\"))"
   ]
  },
  {
   "cell_type": "code",
   "execution_count": 11,
   "metadata": {
    "collapsed": true
   },
   "outputs": [],
   "source": [
    "'''Sets punctation as stopwords'''\n",
    "\n",
    "stopwords = string.punctuation"
   ]
  },
  {
   "cell_type": "code",
   "execution_count": 12,
   "metadata": {
    "collapsed": false
   },
   "outputs": [],
   "source": [
    "'''Tokenizes words'''\n",
    "\n",
    "tree_tokenizer = TreebankWordTokenizer()\n",
    "tokenized = tree_tokenizer.tokenize(corpus)\n",
    "tokenized = [w for w in tokenized if (w not in stopwords)]"
   ]
  },
  {
   "cell_type": "code",
   "execution_count": 15,
   "metadata": {
    "collapsed": true
   },
   "outputs": [],
   "source": [
    "'''Functions to create bigrams and trigrams'''\n",
    "\n",
    "\n",
    "def find_bigrams(input_list):\n",
    "    bigram_list = []\n",
    "    for i in range(len(input_list)-1):\n",
    "        bigram_list.append((input_list[i], input_list[i+1]))\n",
    "    return bigram_list\n",
    "\n",
    "def find_trigrams(input_list):\n",
    "    trigram_list = []\n",
    "    for i in range(len(input_list)-2):\n",
    "        trigram_list.append((input_list[i], input_list[i+1], input_list[i+2]))\n",
    "    return trigram_list"
   ]
  },
  {
   "cell_type": "code",
   "execution_count": 16,
   "metadata": {
    "collapsed": false
   },
   "outputs": [],
   "source": [
    "'''Creates bigrams and trigrams'''\n",
    "\n",
    "bigrams = find_bigrams(tokenized)\n",
    "trigrams = find_trigrams(tokenized)"
   ]
  },
  {
   "cell_type": "markdown",
   "metadata": {},
   "source": [
    "# Write song"
   ]
  },
  {
   "cell_type": "code",
   "execution_count": 18,
   "metadata": {
    "collapsed": false
   },
   "outputs": [],
   "source": [
    "'''Writes song'''\n",
    "\n",
    "d = {}\n",
    "for word in tokenized:\n",
    "    key = word\n",
    "    d.setdefault(key,[])\n",
    "\n",
    "for tri in trigrams:\n",
    "     d[tri[0]].append(tri[1])\n",
    "        \n",
    "future = d[list(d)[random.randrange(len(list(d)))]]\n",
    "present = list(d)[random.randrange(len(list(d)))]\n",
    "phrase = []\n",
    "for i in range(100):\n",
    "    phrase.append(present)\n",
    "    choices = len(future)\n",
    "    if choices == 1:\n",
    "        present = future[0]\n",
    "    else:\n",
    "        present = future[random.randrange(choices)]\n",
    "    future = d[present]"
   ]
  },
  {
   "cell_type": "code",
   "execution_count": 19,
   "metadata": {
    "collapsed": false
   },
   "outputs": [
    {
     "name": "stdout",
     "output_type": "stream",
     "text": [
      "nor and a magic come come to me tell but then my love slippin in the blues sometimes i want to be but until the first time wish that nobody knows those who has lost his wifes aggravation youre a little longer baby gim me like taking the sword lay it easy god its a prisoner in the rocking i wish id just a road runner wedding with me to whom ive got ta move on me theyre gon na really dont be rockn roller i am i have to hug hug hug him what could release them a while\n"
     ]
    }
   ],
   "source": [
    "'''Prints song'''\n",
    "\n",
    "print(' '.join(phrase))"
   ]
  }
 ],
 "metadata": {
  "kernelspec": {
   "display_name": "Python 3",
   "language": "python",
   "name": "python3"
  },
  "language_info": {
   "codemirror_mode": {
    "name": "ipython",
    "version": 3
   },
   "file_extension": ".py",
   "mimetype": "text/x-python",
   "name": "python",
   "nbconvert_exporter": "python",
   "pygments_lexer": "ipython3",
   "version": "3.6.0"
  },
  "toc": {
   "colors": {
    "hover_highlight": "#DAA520",
    "running_highlight": "#FF0000",
    "selected_highlight": "#FFD700"
   },
   "moveMenuLeft": true,
   "nav_menu": {
    "height": "12px",
    "width": "252px"
   },
   "navigate_menu": true,
   "number_sections": true,
   "sideBar": true,
   "threshold": 4,
   "toc_cell": false,
   "toc_section_display": "block",
   "toc_window_display": false,
   "widenNotebook": false
  }
 },
 "nbformat": 4,
 "nbformat_minor": 2
}
