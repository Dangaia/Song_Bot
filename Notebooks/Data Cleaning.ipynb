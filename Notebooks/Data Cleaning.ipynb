{
 "cells": [
  {
   "cell_type": "markdown",
   "metadata": {},
   "source": [
    "# Imports"
   ]
  },
  {
   "cell_type": "code",
   "execution_count": 43,
   "metadata": {
    "collapsed": false
   },
   "outputs": [],
   "source": [
    "import pandas as pd\n",
    "import pickle"
   ]
  },
  {
   "cell_type": "markdown",
   "metadata": {},
   "source": [
    "# Data Cleaning for RNN"
   ]
  },
  {
   "cell_type": "code",
   "execution_count": 10,
   "metadata": {
    "collapsed": false
   },
   "outputs": [],
   "source": [
    "'''Reads data into dataframe'''\n",
    "\n",
    "df = pd.read_csv(\"/Users/Dangaia/Desktop/songdata.csv\")"
   ]
  },
  {
   "cell_type": "code",
   "execution_count": 11,
   "metadata": {
    "collapsed": false
   },
   "outputs": [],
   "source": [
    "'''Parses out lyrics from text column'''\n",
    "\n",
    "lyrics = []\n",
    "for text in df.text:\n",
    "    if(type(text) is str):\n",
    "        lyrics.append(text)"
   ]
  },
  {
   "cell_type": "code",
   "execution_count": 4,
   "metadata": {
    "collapsed": true
   },
   "outputs": [],
   "source": [
    "'''Replace newline characters'''\n",
    "\n",
    "split_lyrics = []\n",
    "for lyric in lyrics:\n",
    "    split_lyrics.append(lyric.split('  \\n'))\n",
    "    \n",
    "split_lyrics = [[x.replace('\\n', '') for x in l] for l in split_lyrics]"
   ]
  },
  {
   "cell_type": "code",
   "execution_count": 5,
   "metadata": {
    "collapsed": true
   },
   "outputs": [],
   "source": [
    "'''Remove empty strings'''\n",
    "split_lyrics = [[x for x in l if x] for l in split_lyrics]"
   ]
  },
  {
   "cell_type": "code",
   "execution_count": 6,
   "metadata": {
    "collapsed": false
   },
   "outputs": [],
   "source": [
    "'''Removes punctuation'''\n",
    "#So for this I KNOW there is a much more pythonic way to do it but I kept messing it up and ran out of time -- I'll go back and fix it\n",
    "\n",
    "split_lyrics = [[x.replace('(', '').replace(')', '').replace(',', '').replace(\"'\", '').replace(\"-\", '').replace('\"', '').replace(\"?\", '').replace('[', '').replace(']', '').replace('.', '').lower() for x in l] for l in split_lyrics]"
   ]
  },
  {
   "cell_type": "code",
   "execution_count": 7,
   "metadata": {
    "collapsed": false
   },
   "outputs": [],
   "source": [
    "'''Creates a new variable that is just a smaller version so that it didnt take a million years to run this'''\n",
    "\n",
    "split_test = [('. '.join(x)) for x in split_lyrics[:500000]]"
   ]
  },
  {
   "cell_type": "code",
   "execution_count": 8,
   "metadata": {
    "collapsed": false
   },
   "outputs": [],
   "source": [
    "'''Creates period separated string'''\n",
    "\n",
    "split_test = '. '.join(map(str, split_test))"
   ]
  },
  {
   "cell_type": "code",
   "execution_count": 12,
   "metadata": {
    "collapsed": true
   },
   "outputs": [],
   "source": [
    "'''Saves file as pickle'''\n",
    "\n",
    "pickle.dump(split_test, open(\"split_test.p\", \"wb\"))"
   ]
  },
  {
   "cell_type": "markdown",
   "metadata": {},
   "source": [
    "# Data Cleaning for Markov Chains"
   ]
  },
  {
   "cell_type": "code",
   "execution_count": 14,
   "metadata": {
    "collapsed": true
   },
   "outputs": [],
   "source": [
    "'''Flatten list of lists into single list'''\n",
    "\n",
    "flat_lyrics = [item for sublist in split_lyrics for item in sublist]"
   ]
  },
  {
   "cell_type": "code",
   "execution_count": 42,
   "metadata": {
    "collapsed": false
   },
   "outputs": [],
   "source": [
    "'''Dump flat_lyrics and flat_test to use in unsupervised learning'''\n",
    "\n",
    "pickle.dump(flat_lyrics, open(\"flat_lyrics.p\", \"wb\"))\n",
    "pickle.dump(flat_test, open(\"flat_test.p\", \"wb\"))"
   ]
  },
  {
   "cell_type": "code",
   "execution_count": 22,
   "metadata": {
    "collapsed": false
   },
   "outputs": [],
   "source": [
    "'''Makes corpus with subsection of lyrics'''\n",
    "\n",
    "corpus = \"\"\n",
    "for line in flat_lyrics[:10000]:\n",
    "    if line != \"\":\n",
    "        corpus = corpus.lower()\n",
    "        corpus += line + \" \""
   ]
  },
  {
   "cell_type": "code",
   "execution_count": 23,
   "metadata": {
    "collapsed": true
   },
   "outputs": [],
   "source": [
    "'''Dump corpus'''\n",
    "\n",
    "pickle.dump(corpus, open(\"corpus.p\", \"wb\"))"
   ]
  }
 ],
 "metadata": {
  "kernelspec": {
   "display_name": "Python 3",
   "language": "python",
   "name": "python3"
  },
  "language_info": {
   "codemirror_mode": {
    "name": "ipython",
    "version": 3
   },
   "file_extension": ".py",
   "mimetype": "text/x-python",
   "name": "python",
   "nbconvert_exporter": "python",
   "pygments_lexer": "ipython3",
   "version": "3.6.0"
  },
  "toc": {
   "colors": {
    "hover_highlight": "#DAA520",
    "running_highlight": "#FF0000",
    "selected_highlight": "#FFD700"
   },
   "moveMenuLeft": true,
   "nav_menu": {
    "height": "12px",
    "width": "252px"
   },
   "navigate_menu": true,
   "number_sections": true,
   "sideBar": true,
   "threshold": 4,
   "toc_cell": false,
   "toc_section_display": "block",
   "toc_window_display": false,
   "widenNotebook": false
  }
 },
 "nbformat": 4,
 "nbformat_minor": 2
}
